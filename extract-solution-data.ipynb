{
 "cells": [
  {
   "cell_type": "code",
   "execution_count": 4,
   "metadata": {},
   "outputs": [
    {
     "ename": "Error",
     "evalue": "",
     "output_type": "error",
     "traceback": [
      ""
     ]
    }
   ],
   "source": [
    "import (\n",
    "    \"bufio\"\n",
    "    \"fmt\"\n",
    "    \"log\"\n",
    "    \"os\"\n",
    "    \"regexp\"\n",
    "    \"strings\"\n",
    ")\n",
    "\n",
    "name := \"/Users/work/Research/FoldIt/testdata/solution_2003996/top/solution_bid_0004_0000288912_0002003867_0372197993.ir_solution.pdb\"\n",
    "\n",
    "// Extract data from filename\n",
    "re := regexp.MustCompile(`solution_(?P<puzzle_id>\\d+)/top/solution_(?P<prefix>[a-z]+)_(?P<rank>\\d+)_\\d+_\\d+_\\d+.ir_solution.pdb`)\n",
    "names := re.SubexpNames()\n",
    "matches := re.FindAllStringSubmatch(name, -1)[0]\n",
    "\n",
    "data := map[string]string{}\n",
    "for i, match := range matches {\n",
    "    data[names[i]] = match\n",
    "}\n",
    "\n",
    "// Scan file\n",
    "f, err := os.Open(name)\n",
    "if err != nil {\n",
    "    log.Fatal(err)\n",
    "}\n",
    "defer f.Close()\n",
    "\n",
    "re := regexp.MustCompile(`^IRDATA PDL`)\n",
    "scanner := bufio.NewScanner(f)\n",
    "for scanner.Scan() {\n",
    "    line := scanner.Text()\n",
    "\n",
    "    if re.MatchString(line) {\n",
    "        line_split := strings.Split(line, \",\")        \n",
    "        data[\"uid\"] = line_split[2]\n",
    "        data[\"gid\"] = line_split[3]\n",
    "        data[\"score\"] = strings.Split(line_split[7], \" \")\n",
    "    }\n",
    "\n",
    "    if err := scanner.Err(); err != nil {\n",
    "        log.Fatal(err)\n",
    "    }\n",
    "}\n",
    "\n"
   ]
  },
  {
   "cell_type": "code",
   "execution_count": null,
   "metadata": {
    "collapsed": true
   },
   "outputs": [],
   "source": []
  }
 ],
 "metadata": {
  "kernelspec": {
   "display_name": "Go",
   "language": "go",
   "name": "gophernotes"
  },
  "language_info": {
   "name": "go"
  }
 },
 "nbformat": 4,
 "nbformat_minor": 2
}
